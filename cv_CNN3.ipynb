{
  "nbformat": 4,
  "nbformat_minor": 0,
  "metadata": {
    "colab": {
      "name": "cv_CNN3.ipynb",
      "provenance": [],
      "mount_file_id": "1x5OZCiVLh9-4GUYmDHZQpgyLYjUXXuDD",
      "authorship_tag": "ABX9TyNojb0qpR9lg4s3OumWjwgW",
      "include_colab_link": true
    },
    "kernelspec": {
      "name": "python3",
      "display_name": "Python 3"
    },
    "language_info": {
      "name": "python"
    }
  },
  "cells": [
    {
      "cell_type": "markdown",
      "metadata": {
        "id": "view-in-github",
        "colab_type": "text"
      },
      "source": [
        "<a href=\"https://colab.research.google.com/github/19PA1A0495/cv-ip-31-/blob/main/cv_CNN3.ipynb\" target=\"_parent\"><img src=\"https://colab.research.google.com/assets/colab-badge.svg\" alt=\"Open In Colab\"/></a>"
      ]
    },
    {
      "cell_type": "code",
      "metadata": {
        "id": "CTxNx3yAGwCk"
      },
      "source": [
        "from keras.preprocessing.image import ImageDataGenerator\n",
        "from keras.models import Sequential\n",
        "from keras.layers import Conv2D, MaxPooling2D\n",
        "from keras.layers import Activation, Dropout, Flatten, Dense\n",
        "from keras import backend as K\n",
        "import matplotlib.pyplot as plt\n",
        "from sklearn.metrics import classification_report\n",
        "import numpy as np"
      ],
      "execution_count": null,
      "outputs": []
    },
    {
      "cell_type": "code",
      "metadata": {
        "id": "THrSRYpuHNAH"
      },
      "source": [
        "img_width, img_height = 300, 300"
      ],
      "execution_count": null,
      "outputs": []
    },
    {
      "cell_type": "code",
      "metadata": {
        "id": "ZTdCNhWUHPnO"
      },
      "source": [
        "train_data_dir = '/content/drive/MyDrive/CVDataset/casting_data/casting_data/train'\n",
        "validation_data_dir = '/content/drive/MyDrive/CVDataset/casting_data/casting_data/test'\n",
        "nb_train_samples =6647\n",
        "nb_validation_samples = 715\n",
        "epochs = 10\n",
        "batch_size = 16"
      ],
      "execution_count": null,
      "outputs": []
    },
    {
      "cell_type": "code",
      "metadata": {
        "id": "5B1omt3qHibs"
      },
      "source": [
        "if K.image_data_format() == 'channels_first':\n",
        "    input_shape = (3, img_width, img_height)\n",
        "else:\n",
        "    input_shape = (img_width, img_height, 3)"
      ],
      "execution_count": null,
      "outputs": []
    },
    {
      "cell_type": "code",
      "metadata": {
        "id": "bsKSSDg9Hjx0"
      },
      "source": [
        "model = Sequential()\n",
        "model.add(Conv2D(32, (2, 2), input_shape=input_shape))\n",
        "model.add(Activation('relu'))\n",
        "model.add(MaxPooling2D(pool_size=(2, 2)))\n",
        "  \n",
        "model.add(Conv2D(32, (2, 2)))\n",
        "model.add(Activation('relu'))\n",
        "model.add(MaxPooling2D(pool_size=(2, 2)))\n",
        "  \n",
        "model.add(Conv2D(64, (2, 2)))\n",
        "model.add(Activation('relu'))\n",
        "model.add(MaxPooling2D(pool_size=(2, 2)))\n",
        "  \n",
        "model.add(Flatten())\n",
        "model.add(Dense(64))\n",
        "model.add(Activation('relu'))\n",
        "model.add(Dropout(0.5))\n",
        "model.add(Dense(1))\n",
        "model.add(Activation('sigmoid'))"
      ],
      "execution_count": null,
      "outputs": []
    },
    {
      "cell_type": "code",
      "metadata": {
        "id": "_tm9_6ciHxHk"
      },
      "source": [
        "model.compile(loss='binary_crossentropy',optimizer='rmsprop',metrics=['accuracy'])"
      ],
      "execution_count": null,
      "outputs": []
    },
    {
      "cell_type": "code",
      "metadata": {
        "colab": {
          "base_uri": "https://localhost:8080/"
        },
        "id": "Uedo13huH0tj",
        "outputId": "54784911-860c-4f89-dba7-4e5fbbac4e06"
      },
      "source": [
        "train_datagen = ImageDataGenerator(rescale=1. / 255,shear_range=0.2,zoom_range=0.2,horizontal_flip=True)\n",
        "test_datagen = ImageDataGenerator(rescale=1. / 255)\n",
        "  \n",
        "train_generator = train_datagen.flow_from_directory(train_data_dir,target_size=(img_width, img_height),batch_size=batch_size,class_mode='binary')\n",
        "  \n",
        "validation_generator = test_datagen.flow_from_directory(validation_data_dir,target_size=(img_width, img_height),batch_size=batch_size,class_mode='binary')\n",
        "  "
      ],
      "execution_count": null,
      "outputs": [
        {
          "output_type": "stream",
          "text": [
            "Found 6647 images belonging to 2 classes.\n",
            "Found 715 images belonging to 2 classes.\n"
          ],
          "name": "stdout"
        }
      ]
    },
    {
      "cell_type": "code",
      "metadata": {
        "colab": {
          "base_uri": "https://localhost:8080/"
        },
        "id": "35dHJj_gIcdy",
        "outputId": "32c0abf3-dfb7-4187-d16f-904b485f5717"
      },
      "source": [
        "history = model.fit_generator(train_generator,steps_per_epoch=25,epochs=epochs,validation_data=validation_generator,validation_steps=2000)"
      ],
      "execution_count": null,
      "outputs": [
        {
          "output_type": "stream",
          "text": [
            "/usr/local/lib/python3.7/dist-packages/keras/engine/training.py:1915: UserWarning: `Model.fit_generator` is deprecated and will be removed in a future version. Please use `Model.fit`, which supports generators.\n",
            "  warnings.warn('`Model.fit_generator` is deprecated and '\n"
          ],
          "name": "stderr"
        },
        {
          "output_type": "stream",
          "text": [
            "Epoch 1/10\n",
            "25/25 [==============================] - ETA: 0s - loss: 2.7126 - accuracy: 0.5329WARNING:tensorflow:Your input ran out of data; interrupting training. Make sure that your dataset or generator can generate at least `steps_per_epoch * epochs` batches (in this case, 2000 batches). You may need to use the repeat() function when building your dataset.\n",
            "25/25 [==============================] - 419s 16s/step - loss: 2.6658 - accuracy: 0.5332 - val_loss: 0.6671 - val_accuracy: 0.6336\n",
            "Epoch 2/10\n",
            "25/25 [==============================] - 127s 5s/step - loss: 0.6969 - accuracy: 0.4717\n",
            "Epoch 3/10\n",
            "25/25 [==============================] - 121s 5s/step - loss: 0.7264 - accuracy: 0.5478\n",
            "Epoch 4/10\n",
            "25/25 [==============================] - 120s 5s/step - loss: 0.6870 - accuracy: 0.5994\n",
            "Epoch 5/10\n",
            "25/25 [==============================] - 114s 5s/step - loss: 0.6654 - accuracy: 0.5938\n",
            "Epoch 6/10\n",
            "25/25 [==============================] - 106s 4s/step - loss: 0.6806 - accuracy: 0.6173\n",
            "Epoch 7/10\n",
            "25/25 [==============================] - 95s 4s/step - loss: 0.6686 - accuracy: 0.6028\n",
            "Epoch 8/10\n",
            "25/25 [==============================] - 91s 4s/step - loss: 0.6884 - accuracy: 0.5776\n",
            "Epoch 9/10\n",
            "25/25 [==============================] - 82s 3s/step - loss: 0.6605 - accuracy: 0.5997\n",
            "Epoch 10/10\n",
            "25/25 [==============================] - 84s 3s/step - loss: 0.7180 - accuracy: 0.6320\n"
          ],
          "name": "stdout"
        }
      ]
    },
    {
      "cell_type": "code",
      "metadata": {
        "colab": {
          "base_uri": "https://localhost:8080/",
          "height": 421
        },
        "id": "L2RLt6aUPTcG",
        "outputId": "2f857665-70fb-4fa6-ffb0-54c6a9561dd2"
      },
      "source": [
        "plt.figure(figsize=[8,6])\n",
        "plt.plot(history.history['accuracy'],'r')\n",
        "plt.legend(['Training Accuracy'])\n",
        "plt.xlabel('Epochs ')\n",
        "plt.ylabel('Accuracy')\n",
        "plt.title('Accuracy Curves')"
      ],
      "execution_count": null,
      "outputs": [
        {
          "output_type": "execute_result",
          "data": {
            "text/plain": [
              "Text(0.5, 1.0, 'Accuracy Curves')"
            ]
          },
          "metadata": {
            "tags": []
          },
          "execution_count": 15
        },
        {
          "output_type": "display_data",
          "data": {
            "image/png": "[encoded data removed]",
            "text/plain": [
              "<Figure size 576x432 with 1 Axes>"
            ]
          },
          "metadata": {
            "tags": [],
            "needs_background": "light"
          }
        }
      ]
    },
    {
      "cell_type": "code",
      "metadata": {
        "colab": {
          "base_uri": "https://localhost:8080/"
        },
        "id": "A8LR3gW2SlJd",
        "outputId": "e3750a08-3ec3-44ae-b669-65a794d4cc22"
      },
      "source": [
        "test_score = model.evaluate_generator(validation_generator, 10)\n",
        "print(\"[INFO] accuracy: {:.2f}%\".format(test_score[1] * 100)) \n",
        "print(\"[INFO] Loss: \",test_score[0])"
      ],
      "execution_count": null,
      "outputs": [
        {
          "output_type": "stream",
          "text": [
            "/usr/local/lib/python3.7/dist-packages/keras/engine/training.py:1948: UserWarning: `Model.evaluate_generator` is deprecated and will be removed in a future version. Please use `Model.evaluate`, which supports generators.\n",
            "  warnings.warn('`Model.evaluate_generator` is deprecated and '\n"
          ],
          "name": "stderr"
        },
        {
          "output_type": "stream",
          "text": [
            "[INFO] accuracy: 71.25%\n",
            "[INFO] Loss:  0.5957708954811096\n"
          ],
          "name": "stdout"
        }
      ]
    },
    {
      "cell_type": "code",
      "metadata": {
        "id": "FqyYu5UKa8Tm"
      },
      "source": [
        "target_names = []\n",
        "for key in train_generator.class_indices:\n",
        "    target_names.append(key)"
      ],
      "execution_count": null,
      "outputs": []
    },
    {
      "cell_type": "code",
      "metadata": {
        "colab": {
          "base_uri": "https://localhost:8080/"
        },
        "id": "ZFav96iSbLHw",
        "outputId": "a2cf55dc-5c5d-4eb4-ee7c-470cf1327d40"
      },
      "source": [
        "Y_pred = model.predict_generator(validation_generator)\n",
        "y_pred = np.argmax(Y_pred, axis=1)"
      ],
      "execution_count": null,
      "outputs": [
        {
          "output_type": "stream",
          "text": [
            "/usr/local/lib/python3.7/dist-packages/keras/engine/training.py:1976: UserWarning: `Model.predict_generator` is deprecated and will be removed in a future version. Please use `Model.predict`, which supports generators.\n",
            "  warnings.warn('`Model.predict_generator` is deprecated and '\n"
          ],
          "name": "stderr"
        }
      ]
    },
    {
      "cell_type": "code",
      "metadata": {
        "colab": {
          "base_uri": "https://localhost:8080/"
        },
        "id": "ErZdW_6SanlB",
        "outputId": "de56f0b4-d032-402b-d747-6e87e3b767e5"
      },
      "source": [
        "print('Classification Report')\n",
        "print(classification_report(validation_generator.classes, y_pred, target_names=target_names))"
      ],
      "execution_count": null,
      "outputs": [
        {
          "output_type": "stream",
          "text": [
            "Classification Report\n",
            "              precision    recall  f1-score   support\n",
            "\n",
            "   def_front       0.63      1.00      0.78       453\n",
            "    ok_front       0.00      0.00      0.00       262\n",
            "\n",
            "    accuracy                           0.63       715\n",
            "   macro avg       0.32      0.50      0.39       715\n",
            "weighted avg       0.40      0.63      0.49       715\n",
            "\n"
          ],
          "name": "stdout"
        },
        {
          "output_type": "stream",
          "text": [
            "/usr/local/lib/python3.7/dist-packages/sklearn/metrics/_classification.py:1272: UndefinedMetricWarning: Precision and F-score are ill-defined and being set to 0.0 in labels with no predicted samples. Use `zero_division` parameter to control this behavior.\n",
            "  _warn_prf(average, modifier, msg_start, len(result))\n"
          ],
          "name": "stderr"
        }
      ]
    }
  ]
}