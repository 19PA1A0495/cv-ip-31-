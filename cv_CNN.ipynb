{
  "nbformat": 4,
  "nbformat_minor": 0,
  "metadata": {
    "colab": {
      "name": "cv_CNN.ipynb",
      "provenance": [],
      "collapsed_sections": [],
      "mount_file_id": "1N-P0RsecfTZ9-U7w-TDEPai_4_aCDLCb",
      "authorship_tag": "ABX9TyNNcAnjLNfAC8BKTFUNcglc",
      "include_colab_link": true
    },
    "kernelspec": {
      "display_name": "Python 3",
      "name": "python3"
    },
    "language_info": {
      "name": "python"
    }
  },
  "cells": [
    {
      "cell_type": "markdown",
      "metadata": {
        "id": "view-in-github",
        "colab_type": "text"
      },
      "source": [
        "<a href=\"https://colab.research.google.com/github/19PA1A0495/cv-ip-31-/blob/main/cv_CNN.ipynb\" target=\"_parent\"><img src=\"https://colab.research.google.com/assets/colab-badge.svg\" alt=\"Open In Colab\"/></a>"
      ]
    },
    {
      "cell_type": "code",
      "metadata": {
        "id": "rT_gIXTHr1OJ"
      },
      "source": [
        "import sys\n",
        "import numpy as np\n",
        "from keras import backend as K\n",
        "from keras.models import Sequential\n",
        "from keras.layers.core import Dense, Dropout, Activation, Flatten\n",
        "from keras.layers.convolutional import Convolution2D, MaxPooling2D\n",
        "from keras.preprocessing.image import ImageDataGenerator\n",
        "from sklearn.metrics import classification_report, confusion_matrix\n",
        "from keras.layers import Conv2D, Flatten, Dense, MaxPool2D,MaxPooling2D, Activation, Dropout, BatchNormalization, Input\n",
        "import matplotlib.pyplot as plt\n",
        "from keras.optimizers import Adam\n",
        "import itertools\n",
        "import cv2 as cv\n",
        "from keras.preprocessing import image\n",
        "from keras.models import load_model\n",
        "from keras.models import Model\n",
        "import keras"
      ],
      "execution_count": 1,
      "outputs": []
    },
    {
      "cell_type": "code",
      "metadata": {
        "id": "iU8NHQdZsPXn"
      },
      "source": [
        "train_dir = \"/content/drive/MyDrive/CVDataset/casting_data/casting_data/train\"\n",
        "test_dir = \"/content/drive/MyDrive/CVDataset/casting_data/casting_data/test\""
      ],
      "execution_count": 2,
      "outputs": []
    },
    {
      "cell_type": "code",
      "metadata": {
        "colab": {
          "base_uri": "https://localhost:8080/"
        },
        "id": "3li1sOCGsxis",
        "outputId": "78ef32ce-62ca-43aa-e4cc-792296045ba2"
      },
      "source": [
        "train_datagen = ImageDataGenerator(rescale=(1/255.),shear_range = 0.2,zoom_range=0.2,horizontal_flip=True)\n",
        "training_set = train_datagen.flow_from_directory(directory = train_dir,target_size=(300,300),batch_size=32,class_mode = \"binary\",shuffle=True)\n",
        "test_datagen = ImageDataGenerator(rescale=(1/255.))\n",
        "test_set = test_datagen.flow_from_directory(directory = test_dir,target_size=(300,300),batch_size=32,class_mode = \"binary\",shuffle=False)"
      ],
      "execution_count": 3,
      "outputs": [
        {
          "output_type": "stream",
          "text": [
            "Found 6647 images belonging to 2 classes.\n",
            "Found 715 images belonging to 2 classes.\n"
          ],
          "name": "stdout"
        }
      ]
    },
    {
      "cell_type": "code",
      "metadata": {
        "id": "Grm_5Ci1tBDb"
      },
      "source": [
        "\n",
        "model = keras.Sequential()\n",
        "\n",
        "# Convolutional layer and maxpool layer 1\n",
        "model.add(keras.layers.Conv2D(32,(3,3),activation='relu',input_shape=(300,300,3)))\n",
        "model.add(keras.layers.MaxPool2D(2,2))\n",
        "\n",
        "# Convolutional layer and maxpool layer 2\n",
        "model.add(keras.layers.Conv2D(64,(3,3),activation='relu'))\n",
        "model.add(keras.layers.MaxPool2D(2,2))\n",
        "\n",
        "# Convolutional layer and maxpool layer 3\n",
        "model.add(keras.layers.Conv2D(128,(3,3),activation='relu'))\n",
        "model.add(keras.layers.MaxPool2D(2,2))\n",
        "\n",
        "# Convolutional layer and maxpool layer 4\n",
        "model.add(keras.layers.Conv2D(128,(3,3),activation='relu'))\n",
        "model.add(keras.layers.MaxPool2D(2,2))\n",
        "\n",
        "# This layer flattens the resulting image array to 1D array\n",
        "model.add(keras.layers.Flatten())\n",
        "\n",
        "# Hidden layer with 512 neurons and Rectified Linear Unit activation function \n",
        "model.add(keras.layers.Dense(512,activation='relu'))\n",
        "\n",
        "model.add(keras.layers.Dense(1,activation='sigmoid'))"
      ],
      "execution_count": 4,
      "outputs": []
    },
    {
      "cell_type": "code",
      "metadata": {
        "id": "3B5e7jLQuOfB"
      },
      "source": [
        "model.compile(optimizer='adam',loss='binary_crossentropy',metrics=['accuracy'])"
      ],
      "execution_count": 5,
      "outputs": []
    },
    {
      "cell_type": "code",
      "metadata": {
        "colab": {
          "base_uri": "https://localhost:8080/"
        },
        "id": "ihbbCfnSxV0Z",
        "outputId": "e4d02c76-8160-48e4-d94d-c7f2d958f611"
      },
      "source": [
        "history = model.fit_generator(training_set,steps_per_epoch =50,epochs = 10,validation_data = test_set)"
      ],
      "execution_count": 6,
      "outputs": [
        {
          "output_type": "stream",
          "text": [
            "/usr/local/lib/python3.7/dist-packages/keras/engine/training.py:1915: UserWarning: `Model.fit_generator` is deprecated and will be removed in a future version. Please use `Model.fit`, which supports generators.\n",
            "  warnings.warn('`Model.fit_generator` is deprecated and '\n"
          ],
          "name": "stderr"
        },
        {
          "output_type": "stream",
          "text": [
            "Epoch 1/10\n",
            "50/50 [==============================] - 1366s 27s/step - loss: 1.0670 - accuracy: 0.5134 - val_loss: 0.6852 - val_accuracy: 0.6336\n",
            "Epoch 2/10\n",
            "50/50 [==============================] - 793s 16s/step - loss: 0.6645 - accuracy: 0.6172 - val_loss: 0.6213 - val_accuracy: 0.6979\n",
            "Epoch 3/10\n",
            "50/50 [==============================] - 623s 12s/step - loss: 0.6295 - accuracy: 0.6672 - val_loss: 0.5774 - val_accuracy: 0.7007\n",
            "Epoch 4/10\n",
            "50/50 [==============================] - 503s 10s/step - loss: 0.5905 - accuracy: 0.6937 - val_loss: 0.4748 - val_accuracy: 0.7720\n",
            "Epoch 5/10\n",
            "50/50 [==============================] - 434s 9s/step - loss: 0.4696 - accuracy: 0.7799 - val_loss: 0.4700 - val_accuracy: 0.7790\n",
            "Epoch 6/10\n",
            "50/50 [==============================] - 393s 8s/step - loss: 0.3686 - accuracy: 0.8243 - val_loss: 0.2560 - val_accuracy: 0.8965\n",
            "Epoch 7/10\n",
            "50/50 [==============================] - 378s 8s/step - loss: 0.2985 - accuracy: 0.8825 - val_loss: 0.2179 - val_accuracy: 0.9203\n",
            "Epoch 8/10\n",
            "50/50 [==============================] - 372s 7s/step - loss: 0.2519 - accuracy: 0.8992 - val_loss: 0.1971 - val_accuracy: 0.9175\n",
            "Epoch 9/10\n",
            "50/50 [==============================] - 373s 7s/step - loss: 0.2216 - accuracy: 0.8982 - val_loss: 0.2895 - val_accuracy: 0.8657\n",
            "Epoch 10/10\n",
            "50/50 [==============================] - 373s 7s/step - loss: 0.2151 - accuracy: 0.9192 - val_loss: 0.2146 - val_accuracy: 0.9105\n"
          ],
          "name": "stdout"
        }
      ]
    },
    {
      "cell_type": "markdown",
      "metadata": {
        "id": "x9Ff5FsSFzxF"
      },
      "source": [
        "Test score"
      ]
    },
    {
      "cell_type": "code",
      "metadata": {
        "colab": {
          "base_uri": "https://localhost:8080/"
        },
        "id": "yrzQxuFtFVw7",
        "outputId": "5d8dbecd-f01f-4aac-bab1-39e5a7160970"
      },
      "source": [
        "batch_size = 10\n",
        "test_score = model.evaluate_generator(test_set, batch_size)\n",
        "print(\"[INFO] accuracy: {:.2f}%\".format(test_score[1] * 100)) \n",
        "print(\"[INFO] Loss: \",test_score[0])"
      ],
      "execution_count": 8,
      "outputs": [
        {
          "output_type": "stream",
          "text": [
            "/usr/local/lib/python3.7/dist-packages/keras/engine/training.py:1948: UserWarning: `Model.evaluate_generator` is deprecated and will be removed in a future version. Please use `Model.evaluate`, which supports generators.\n",
            "  warnings.warn('`Model.evaluate_generator` is deprecated and '\n"
          ],
          "name": "stderr"
        },
        {
          "output_type": "stream",
          "text": [
            "[INFO] accuracy: 91.87%\n",
            "[INFO] Loss:  0.20250821113586426\n"
          ],
          "name": "stdout"
        }
      ]
    },
    {
      "cell_type": "markdown",
      "metadata": {
        "id": "UQdtIVOaF2n9"
      },
      "source": [
        "Training Accuracy vs Validation Accuracy"
      ]
    },
    {
      "cell_type": "code",
      "metadata": {
        "colab": {
          "base_uri": "https://localhost:8080/",
          "height": 421
        },
        "id": "KgT_d-GfGEaK",
        "outputId": "946522db-0a7d-44c0-aacf-4557113bc989"
      },
      "source": [
        "plt.figure(figsize=[8,6])\n",
        "plt.plot(history.history['accuracy'],'r',linewidth=3.0)\n",
        "plt.plot(history.history['val_accuracy'],'b',linewidth=3.0)\n",
        "plt.legend(['Training Accuracy', 'Validation Accuracy'])\n",
        "plt.xlabel('Epochs ')\n",
        "plt.ylabel('Accuracy')\n",
        "plt.title('Accuracy Curves')"
      ],
      "execution_count": 9,
      "outputs": [
        {
          "output_type": "execute_result",
          "data": {
            "text/plain": [
              "Text(0.5, 1.0, 'Accuracy Curves')"
            ]
          },
          "metadata": {
            "tags": []
          },
          "execution_count": 9
        },
        {
          "output_type": "display_data",
          "data": {
            "image/png": "[encoded data removed]",
            "text/plain": [
              "<Figure size 576x432 with 1 Axes>"
            ]
          },
          "metadata": {
            "tags": [],
            "needs_background": "light"
          }
        }
      ]
    },
    {
      "cell_type": "code",
      "metadata": {
        "colab": {
          "base_uri": "https://localhost:8080/"
        },
        "id": "_cIKMYKWFRMh",
        "outputId": "2481efcc-f052-4a19-a484-85b06f53d9dd"
      },
      "source": [
        "Y_pred = model.predict_generator(test_set)\n",
        "y_pred = np.argmax(Y_pred, axis=1)\n",
        "print('Confusion Matrix')\n",
        "print(confusion_matrix(test_set.classes, y_pred))"
      ],
      "execution_count": 11,
      "outputs": [
        {
          "output_type": "stream",
          "text": [
            "/usr/local/lib/python3.7/dist-packages/keras/engine/training.py:1976: UserWarning: `Model.predict_generator` is deprecated and will be removed in a future version. Please use `Model.predict`, which supports generators.\n",
            "  warnings.warn('`Model.predict_generator` is deprecated and '\n"
          ],
          "name": "stderr"
        },
        {
          "output_type": "stream",
          "text": [
            "Confusion Matrix\n",
            "[[453   0]\n",
            " [262   0]]\n"
          ],
          "name": "stdout"
        }
      ]
    },
    {
      "cell_type": "code",
      "metadata": {
        "id": "QnIV-s-CGLVp"
      },
      "source": [
        "target_names = []\n",
        "for key in training_set.class_indices:\n",
        "    target_names.append(key)"
      ],
      "execution_count": 12,
      "outputs": []
    },
    {
      "cell_type": "code",
      "metadata": {
        "colab": {
          "base_uri": "https://localhost:8080/"
        },
        "id": "IXNU2PtHGOwR",
        "outputId": "def078be-3e05-42cf-e55e-a6f8c465d4bf"
      },
      "source": [
        "print('Classification Report')\n",
        "\n",
        "print(classification_report(test_set.classes, y_pred, target_names=target_names))"
      ],
      "execution_count": 14,
      "outputs": [
        {
          "output_type": "stream",
          "text": [
            "Classification Report\n",
            "              precision    recall  f1-score   support\n",
            "\n",
            "   def_front       0.63      1.00      0.78       453\n",
            "    ok_front       0.00      0.00      0.00       262\n",
            "\n",
            "    accuracy                           0.63       715\n",
            "   macro avg       0.32      0.50      0.39       715\n",
            "weighted avg       0.40      0.63      0.49       715\n",
            "\n"
          ],
          "name": "stdout"
        },
        {
          "output_type": "stream",
          "text": [
            "/usr/local/lib/python3.7/dist-packages/sklearn/metrics/_classification.py:1272: UndefinedMetricWarning: Precision and F-score are ill-defined and being set to 0.0 in labels with no predicted samples. Use `zero_division` parameter to control this behavior.\n",
            "  _warn_prf(average, modifier, msg_start, len(result))\n"
          ],
          "name": "stderr"
        }
      ]
    }
  ]
}