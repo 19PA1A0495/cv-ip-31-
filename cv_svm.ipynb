{
  "nbformat": 4,
  "nbformat_minor": 0,
  "metadata": {
    "colab": {
      "name": "cv_svm.ipynb",
      "provenance": [],
      "mount_file_id": "1Nk7ZRfMlbQd97VoBbccHERrgXqJg7IGJ",
      "authorship_tag": "ABX9TyPM2tLi0Ey4I1VgoJ9zMcGQ",
      "include_colab_link": true
    },
    "kernelspec": {
      "name": "python3",
      "display_name": "Python 3"
    },
    "language_info": {
      "name": "python"
    }
  },
  "cells": [
    {
      "cell_type": "markdown",
      "metadata": {
        "id": "view-in-github",
        "colab_type": "text"
      },
      "source": [
        "<a href=\"https://colab.research.google.com/github/19PA1A0495/cv-ip-31-/blob/main/cv_svm.ipynb\" target=\"_parent\"><img src=\"https://colab.research.google.com/assets/colab-badge.svg\" alt=\"Open In Colab\"/></a>"
      ]
    },
    {
      "cell_type": "code",
      "metadata": {
        "id": "wTUm1j0Di1Vu"
      },
      "source": [
        "import numpy as np\n",
        "import pandas as pd\n",
        "import tensorflow as tf\n",
        "from tensorflow.keras.preprocessing.image import ImageDataGenerator\n",
        "from tensorflow.keras import Sequential\n",
        "from tensorflow.keras.layers import Conv2D,Dense,MaxPool2D,Flatten\n",
        "from tensorflow.keras.regularizers import l2\n",
        "from keras.optimizers import Adam\n",
        "import matplotlib.pyplot as plt\n",
        "from sklearn.metrics import classification_report, confusion_matrix\n",
        "import itertools"
      ],
      "execution_count": 44,
      "outputs": []
    },
    {
      "cell_type": "code",
      "metadata": {
        "id": "umaQWlj1i_ji"
      },
      "source": [
        "train_dir = \"/content/drive/MyDrive/CVDataset/casting_data/casting_data/train\"\n",
        "test_dir = \"/content/drive/MyDrive/CVDataset/casting_data/casting_data/test\""
      ],
      "execution_count": 4,
      "outputs": []
    },
    {
      "cell_type": "code",
      "metadata": {
        "colab": {
          "base_uri": "https://localhost:8080/"
        },
        "id": "-T0iU7LPjCGR",
        "outputId": "2fb911f9-c199-4c73-ca3f-452d52a5cbd9"
      },
      "source": [
        "train_datagen = ImageDataGenerator(rescale=(1/255.),shear_range = 0.2,zoom_range=0.2,horizontal_flip=True)\n",
        "training_set = train_datagen.flow_from_directory(directory = train_dir,target_size=(300,300),batch_size=32,class_mode = \"binary\",shuffle=True)\n",
        "test_datagen = ImageDataGenerator(rescale=(1/255.))\n",
        "test_set = test_datagen.flow_from_directory(directory = test_dir,target_size=(300,300),batch_size=32,class_mode = \"binary\",shuffle=False)"
      ],
      "execution_count": 17,
      "outputs": [
        {
          "output_type": "stream",
          "text": [
            "Found 6647 images belonging to 2 classes.\n",
            "Found 715 images belonging to 2 classes.\n"
          ],
          "name": "stdout"
        }
      ]
    },
    {
      "cell_type": "code",
      "metadata": {
        "id": "OUs4pSl0BBpK"
      },
      "source": [
        "creating the model"
      ],
      "execution_count": null,
      "outputs": []
    },
    {
      "cell_type": "code",
      "metadata": {
        "id": "xtTQh8XckQTx"
      },
      "source": [
        "model = Sequential()\n",
        "model.add(Conv2D(filters = 32, padding = \"same\",activation = \"relu\",kernel_size=3, strides = 2,input_shape=(300,300,3)))\n",
        "model.add(MaxPool2D(pool_size=(2,2),strides = 2))\n",
        "\n",
        "model.add(Conv2D(filters = 32, padding = \"same\",activation = \"relu\",kernel_size=3))\n",
        "model.add(MaxPool2D(pool_size=(2,2),strides = 2))\n",
        "\n",
        "model.add(Flatten())\n",
        "model.add(Dense(128,activation=\"relu\"))\n",
        "\n",
        "#Output layer\n",
        "model.add(Dense(1,kernel_regularizer=l2(0.01),activation = \"linear\"))\n"
      ],
      "execution_count": 24,
      "outputs": []
    },
    {
      "cell_type": "code",
      "metadata": {
        "id": "TmVoTjwmnBv3"
      },
      "source": [
        "model.compile(loss='hinge', optimizer='adam', metrics=['accuracy'])"
      ],
      "execution_count": 26,
      "outputs": []
    },
    {
      "cell_type": "code",
      "metadata": {
        "colab": {
          "base_uri": "https://localhost:8080/"
        },
        "id": "NcAcYRAZkYGm",
        "outputId": "e2d79b96-ada9-4053-bcef-82527a4abb55"
      },
      "source": [
        "history = model.fit_generator(training_set,steps_per_epoch=50,epochs=10,validation_data=test_set)"
      ],
      "execution_count": 29,
      "outputs": [
        {
          "output_type": "stream",
          "text": [
            "/usr/local/lib/python3.7/dist-packages/tensorflow/python/keras/engine/training.py:1940: UserWarning: `Model.fit_generator` is deprecated and will be removed in a future version. Please use `Model.fit`, which supports generators.\n",
            "  warnings.warn('`Model.fit_generator` is deprecated and '\n"
          ],
          "name": "stderr"
        },
        {
          "output_type": "stream",
          "text": [
            "Epoch 1/10\n",
            "50/50 [==============================] - 586s 12s/step - loss: 0.9244 - accuracy: 0.5763 - val_loss: 1.0959 - val_accuracy: 0.5483\n",
            "Epoch 2/10\n",
            "50/50 [==============================] - 295s 6s/step - loss: 0.8493 - accuracy: 0.5806 - val_loss: 0.8193 - val_accuracy: 0.7399\n",
            "Epoch 3/10\n",
            "50/50 [==============================] - 242s 5s/step - loss: 0.7921 - accuracy: 0.6431 - val_loss: 0.5917 - val_accuracy: 0.7105\n",
            "Epoch 4/10\n",
            "50/50 [==============================] - 181s 4s/step - loss: 0.6431 - accuracy: 0.7113 - val_loss: 0.4621 - val_accuracy: 0.7804\n",
            "Epoch 5/10\n",
            "50/50 [==============================] - 154s 3s/step - loss: 0.5380 - accuracy: 0.7475 - val_loss: 0.4417 - val_accuracy: 0.8699\n",
            "Epoch 6/10\n",
            "50/50 [==============================] - 125s 2s/step - loss: 0.3634 - accuracy: 0.8338 - val_loss: 0.4486 - val_accuracy: 0.8615\n",
            "Epoch 7/10\n",
            "50/50 [==============================] - 118s 2s/step - loss: 0.4302 - accuracy: 0.8087 - val_loss: 0.6792 - val_accuracy: 0.7776\n",
            "Epoch 8/10\n",
            "50/50 [==============================] - 107s 2s/step - loss: 0.3048 - accuracy: 0.8661 - val_loss: 0.3913 - val_accuracy: 0.8909\n",
            "Epoch 9/10\n",
            "50/50 [==============================] - 98s 2s/step - loss: 0.3264 - accuracy: 0.8542 - val_loss: 0.2056 - val_accuracy: 0.9427\n",
            "Epoch 10/10\n",
            "50/50 [==============================] - 92s 2s/step - loss: 0.2162 - accuracy: 0.9063 - val_loss: 0.2603 - val_accuracy: 0.9343\n"
          ],
          "name": "stdout"
        }
      ]
    },
    {
      "cell_type": "code",
      "metadata": {
        "id": "QS-9K8dC9llu"
      },
      "source": [
        "batch_size = 10"
      ],
      "execution_count": 32,
      "outputs": []
    },
    {
      "cell_type": "markdown",
      "metadata": {
        "id": "qdjTYPjm_O4X"
      },
      "source": [
        "Accuracy and loss"
      ]
    },
    {
      "cell_type": "code",
      "metadata": {
        "colab": {
          "base_uri": "https://localhost:8080/"
        },
        "id": "9zrHt_Yt0uVb",
        "outputId": "002216d4-56a2-42ea-a6b7-d99a3d03f063"
      },
      "source": [
        "test_score = model.evaluate_generator(test_set, batch_size)\n",
        "print(\"[INFO] accuracy: {:.2f}%\".format(test_score[1] * 100)) \n",
        "print(\"[INFO] Loss: \",test_score[0])"
      ],
      "execution_count": 50,
      "outputs": [
        {
          "output_type": "stream",
          "text": [
            "/usr/local/lib/python3.7/dist-packages/tensorflow/python/keras/engine/training.py:1973: UserWarning: `Model.evaluate_generator` is deprecated and will be removed in a future version. Please use `Model.evaluate`, which supports generators.\n",
            "  warnings.warn('`Model.evaluate_generator` is deprecated and '\n"
          ],
          "name": "stderr"
        },
        {
          "output_type": "stream",
          "text": [
            "[INFO] accuracy: 92.81%\n",
            "[INFO] Loss:  0.335618793964386\n"
          ],
          "name": "stdout"
        }
      ]
    },
    {
      "cell_type": "markdown",
      "metadata": {
        "id": "lkgMOfBV_Wvi"
      },
      "source": [
        "Train Accuracy vs Validation Accuracy"
      ]
    },
    {
      "cell_type": "code",
      "metadata": {
        "colab": {
          "base_uri": "https://localhost:8080/",
          "height": 421
        },
        "id": "xigABIO992RM",
        "outputId": "f8c35b70-29be-4255-edf0-274345b1c26e"
      },
      "source": [
        "plt.figure(figsize=[8,6])\n",
        "plt.plot(history.history['accuracy'],'r',linewidth=3.0)\n",
        "plt.plot(history.history['val_accuracy'],'b',linewidth=3.0)\n",
        "plt.legend(['Training Accuracy', 'Validation Accuracy'])\n",
        "plt.xlabel('Epochs ')\n",
        "plt.ylabel('Accuracy')\n",
        "plt.title('Accuracy Curves')"
      ],
      "execution_count": 36,
      "outputs": [
        {
          "output_type": "execute_result",
          "data": {
            "text/plain": [
              "Text(0.5, 1.0, 'Accuracy Curves')"
            ]
          },
          "metadata": {
            "tags": []
          },
          "execution_count": 36
        },
        {
          "output_type": "display_data",
          "data": {
            "image/png": "[encoded data removed]",
            "text/plain": [
              "<Figure size 576x432 with 1 Axes>"
            ]
          },
          "metadata": {
            "tags": [],
            "needs_background": "light"
          }
        }
      ]
    },
    {
      "cell_type": "markdown",
      "metadata": {
        "id": "bF9rVEO1_gqe"
      },
      "source": [
        "Confusion matrix"
      ]
    },
    {
      "cell_type": "code",
      "metadata": {
        "id": "-4SPsg0b-FpG"
      },
      "source": [
        "def plot_confusion_matrix(cm, classes, normalize=True, title='Confusion matrix', cmap=plt.cm.Blues):\n",
        "\n",
        "    plt.figure(figsize=(10,10))\n",
        "    plt.imshow(cm, interpolation='nearest', cmap=cmap)\n",
        "    plt.title(title)\n",
        "    plt.colorbar()\n",
        "    tick_marks = np.arange(len(classes))\n",
        "    plt.xticks(tick_marks, classes, rotation=45)\n",
        "    plt.yticks(tick_marks, classes)\n",
        "    if normalize:\n",
        "        cm = cm.astype('float') / cm.sum(axis=1)[:, np.newaxis]\n",
        "        cm = np.around(cm, decimals=2)\n",
        "        cm[np.isnan(cm)] = 0.0\n",
        "        print(\"Normalized confusion matrix\")\n",
        "    else:\n",
        "        print('Confusion matrix, without normalization')\n",
        "    thresh = cm.max() / 2.\n",
        "    for i, j in itertools.product(range(cm.shape[0]), range(cm.shape[1])):\n",
        "        plt.text(j, i, cm[i, j],\n",
        "                 horizontalalignment=\"center\",\n",
        "                 color=\"white\" if cm[i, j] > thresh else \"black\")\n",
        "    plt.tight_layout()\n",
        "    plt.ylabel('True label')\n",
        "    plt.xlabel('Predicted label')"
      ],
      "execution_count": 37,
      "outputs": []
    },
    {
      "cell_type": "code",
      "metadata": {
        "id": "6ffN82c5-Iss"
      },
      "source": [
        "target_names = []\n",
        "for key in training_set.class_indices:\n",
        "    target_names.append(key)"
      ],
      "execution_count": 40,
      "outputs": []
    },
    {
      "cell_type": "code",
      "metadata": {
        "colab": {
          "base_uri": "https://localhost:8080/",
          "height": 817
        },
        "id": "5AguXnAE-OgE",
        "outputId": "f57aeb05-7ef1-4de3-e6a1-758b207f2083"
      },
      "source": [
        "Y_pred = model.predict_generator(test_set)\n",
        "y_pred = np.argmax(Y_pred, axis=1)\n",
        "print('Confusion Matrix')\n",
        "cm = confusion_matrix(test_set.classes, y_pred)\n",
        "plot_confusion_matrix(cm, target_names, title='Confusion Matrix')"
      ],
      "execution_count": 49,
      "outputs": [
        {
          "output_type": "stream",
          "text": [
            "/usr/local/lib/python3.7/dist-packages/tensorflow/python/keras/engine/training.py:2001: UserWarning: `Model.predict_generator` is deprecated and will be removed in a future version. Please use `Model.predict`, which supports generators.\n",
            "  warnings.warn('`Model.predict_generator` is deprecated and '\n"
          ],
          "name": "stderr"
        },
        {
          "output_type": "stream",
          "text": [
            "Confusion Matrix\n",
            "Normalized confusion matrix\n"
          ],
          "name": "stdout"
        },
        {
          "output_type": "display_data",
          "data": {
            "image/png": "[encoded data removed]",
            "text/plain": [
              "<Figure size 720x720 with 2 Axes>"
            ]
          },
          "metadata": {
            "tags": [],
            "needs_background": "light"
          }
        }
      ]
    },
    {
      "cell_type": "code",
      "metadata": {
        "colab": {
          "base_uri": "https://localhost:8080/"
        },
        "id": "IEI8sZAV_HSZ",
        "outputId": "fc24de36-058f-4ada-d77c-d3798aa386b6"
      },
      "source": [
        "model.summary()"
      ],
      "execution_count": 46,
      "outputs": [
        {
          "output_type": "stream",
          "text": [
            "Model: \"sequential_2\"\n",
            "_________________________________________________________________\n",
            "Layer (type)                 Output Shape              Param #   \n",
            "=================================================================\n",
            "conv2d_4 (Conv2D)            (None, 150, 150, 32)      896       \n",
            "_________________________________________________________________\n",
            "max_pooling2d_4 (MaxPooling2 (None, 75, 75, 32)        0         \n",
            "_________________________________________________________________\n",
            "conv2d_5 (Conv2D)            (None, 75, 75, 32)        9248      \n",
            "_________________________________________________________________\n",
            "max_pooling2d_5 (MaxPooling2 (None, 37, 37, 32)        0         \n",
            "_________________________________________________________________\n",
            "flatten_2 (Flatten)          (None, 43808)             0         \n",
            "_________________________________________________________________\n",
            "dense_4 (Dense)              (None, 128)               5607552   \n",
            "_________________________________________________________________\n",
            "dense_5 (Dense)              (None, 1)                 129       \n",
            "=================================================================\n",
            "Total params: 5,617,825\n",
            "Trainable params: 5,617,825\n",
            "Non-trainable params: 0\n",
            "_________________________________________________________________\n"
          ],
          "name": "stdout"
        }
      ]
    }
  ]
}